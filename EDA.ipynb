{
 "cells": [
  {
   "cell_type": "markdown",
   "id": "145fbd89-a3ee-4628-8e83-4069e504fb03",
   "metadata": {},
   "source": [
    "# Initial EDA\n",
    "What's in here that looks useful?"
   ]
  },
  {
   "cell_type": "code",
   "execution_count": 1,
   "id": "075030c8-e9fe-4fce-b752-d910d64ebfb1",
   "metadata": {
    "execution": {
     "iopub.execute_input": "2022-06-07T15:25:39.214089Z",
     "iopub.status.busy": "2022-06-07T15:25:39.213748Z",
     "iopub.status.idle": "2022-06-07T15:25:40.335156Z",
     "shell.execute_reply": "2022-06-07T15:25:40.334266Z",
     "shell.execute_reply.started": "2022-06-07T15:25:39.214015Z"
    },
    "tags": []
   },
   "outputs": [],
   "source": [
    "import pandas as pd\n",
    "import seaborn as sns\n",
    "\n",
    "sns.set_theme(style='darkgrid')"
   ]
  },
  {
   "cell_type": "markdown",
   "id": "c14f6c4c-fb4b-4e69-817e-28dbae07c298",
   "metadata": {},
   "source": [
    "## First load the data and get basic info"
   ]
  },
  {
   "cell_type": "code",
   "execution_count": 2,
   "id": "94c1ae77-ccbd-42ce-9e34-3b0f96342002",
   "metadata": {
    "execution": {
     "iopub.execute_input": "2022-06-07T15:25:40.336431Z",
     "iopub.status.busy": "2022-06-07T15:25:40.336185Z",
     "iopub.status.idle": "2022-06-07T15:25:40.738364Z",
     "shell.execute_reply": "2022-06-07T15:25:40.737807Z",
     "shell.execute_reply.started": "2022-06-07T15:25:40.336415Z"
    },
    "tags": []
   },
   "outputs": [
    {
     "name": "stdout",
     "output_type": "stream",
     "text": [
      "<class 'pandas.core.frame.DataFrame'>\n",
      "RangeIndex: 48565 entries, 0 to 48564\n",
      "Data columns (total 23 columns):\n",
      " #   Column               Non-Null Count  Dtype  \n",
      "---  ------               --------------  -----  \n",
      " 0   author               48544 non-null  object \n",
      " 1   created_utc          48565 non-null  float64\n",
      " 2   distinguished        47 non-null     object \n",
      " 3   edited               48565 non-null  object \n",
      " 4   id                   48565 non-null  object \n",
      " 5   is_original_content  48565 non-null  bool   \n",
      " 6   is_self              48565 non-null  bool   \n",
      " 7   link_flair_text      25836 non-null  object \n",
      " 8   locked               48565 non-null  bool   \n",
      " 9   name                 48565 non-null  object \n",
      " 10  num_comments         48565 non-null  int64  \n",
      " 11  over_18              48565 non-null  bool   \n",
      " 12  permalink            48565 non-null  object \n",
      " 13  score                48565 non-null  int64  \n",
      " 14  selftext             2243 non-null   object \n",
      " 15  spoiler              48565 non-null  bool   \n",
      " 16  stickied             48565 non-null  bool   \n",
      " 17  subreddit            48565 non-null  object \n",
      " 18  title                48565 non-null  object \n",
      " 19  upvote_ratio         48565 non-null  float64\n",
      " 20  url                  48565 non-null  object \n",
      " 21  utc_now              48565 non-null  float64\n",
      " 22  post_age             48565 non-null  float64\n",
      "dtypes: bool(6), float64(4), int64(2), object(11)\n",
      "memory usage: 6.6+ MB\n"
     ]
    }
   ],
   "source": [
    "# Load from \"db\"\n",
    "db = pd.read_csv('data/startingover.csv')\n",
    "db.info()"
   ]
  },
  {
   "cell_type": "markdown",
   "id": "b2759ec8-a6f9-43fc-926e-8fb85edf49df",
   "metadata": {},
   "source": [
    "'num_comments' is going to be the target, let's get a closer look at the distribution"
   ]
  },
  {
   "cell_type": "code",
   "execution_count": 3,
   "id": "4a036089-f235-4a48-b57a-6b5f7a8f598d",
   "metadata": {
    "execution": {
     "iopub.execute_input": "2022-06-07T15:25:40.740085Z",
     "iopub.status.busy": "2022-06-07T15:25:40.739890Z",
     "iopub.status.idle": "2022-06-07T15:25:41.471046Z",
     "shell.execute_reply": "2022-06-07T15:25:41.470383Z",
     "shell.execute_reply.started": "2022-06-07T15:25:40.740063Z"
    },
    "tags": []
   },
   "outputs": [
    {
     "name": "stdout",
     "output_type": "stream",
     "text": [
      "count    48565.000000\n",
      "mean        84.723463\n",
      "std        346.739562\n",
      "min          0.000000\n",
      "25%         10.000000\n",
      "50%         26.000000\n",
      "75%         69.000000\n",
      "max      27985.000000\n",
      "Name: num_comments, dtype: float64\n"
     ]
    },
    {
     "data": {
      "image/png": "[encoded data removed]",
      "text/plain": [
       "<Figure size 432x288 with 1 Axes>"
      ]
     },
     "metadata": {
      "needs_background": "light"
     },
     "output_type": "display_data"
    }
   ],
   "source": [
    "print(db.num_comments.describe())\n",
    "sns.histplot(db.num_comments,log_scale=(False,True),bins=50);"
   ]
  },
  {
   "cell_type": "markdown",
   "id": "839e5d30-ab8f-4871-8191-20cf3b1b7c2d",
   "metadata": {},
   "source": [
    "This appears to be heavily impacted by outliers, I'll pick a cutoff at 6000 comments and see where that gets us"
   ]
  },
  {
   "cell_type": "code",
   "execution_count": 4,
   "id": "0e5a5c07-51c4-4251-a955-8a16c9500fad",
   "metadata": {
    "execution": {
     "iopub.execute_input": "2022-06-07T15:25:41.471990Z",
     "iopub.status.busy": "2022-06-07T15:25:41.471813Z",
     "iopub.status.idle": "2022-06-07T15:25:41.478361Z",
     "shell.execute_reply": "2022-06-07T15:25:41.477689Z",
     "shell.execute_reply.started": "2022-06-07T15:25:41.471973Z"
    }
   },
   "outputs": [
    {
     "data": {
      "text/plain": [
       "21"
      ]
     },
     "execution_count": 4,
     "metadata": {},
     "output_type": "execute_result"
    }
   ],
   "source": [
    "len(db[db.num_comments>6000])"
   ]
  },
  {
   "cell_type": "markdown",
   "id": "9e465633-ebbd-4497-8b27-52ad0aa48048",
   "metadata": {},
   "source": [
    "There are some extreme outliers here, they're skewing the data and there are so few of them that we won't miss them at all. So we'll drop and re-plot"
   ]
  },
  {
   "cell_type": "code",
   "execution_count": 5,
   "id": "4a028cd9-0e67-4e35-865d-9f2cf1fbc23f",
   "metadata": {
    "execution": {
     "iopub.execute_input": "2022-06-07T15:25:41.479374Z",
     "iopub.status.busy": "2022-06-07T15:25:41.479182Z",
     "iopub.status.idle": "2022-06-07T15:25:41.912305Z",
     "shell.execute_reply": "2022-06-07T15:25:41.911570Z",
     "shell.execute_reply.started": "2022-06-07T15:25:41.479357Z"
    },
    "tags": []
   },
   "outputs": [
    {
     "name": "stdout",
     "output_type": "stream",
     "text": [
      "count    48544.000000\n",
      "mean        79.740957\n",
      "std        223.601340\n",
      "min          0.000000\n",
      "25%         10.000000\n",
      "50%         26.000000\n",
      "75%         68.250000\n",
      "max       5876.000000\n",
      "Name: num_comments, dtype: float64\n"
     ]
    },
    {
     "data": {
      "image/png": "[encoded data removed]",
      "text/plain": [
       "<Figure size 432x288 with 1 Axes>"
      ]
     },
     "metadata": {
      "needs_background": "light"
     },
     "output_type": "display_data"
    }
   ],
   "source": [
    "db = db.drop(db[db.num_comments>6000].index)\n",
    "print(db.num_comments.describe())\n",
    "sns.histplot(db.num_comments,log_scale=(False,True),bins=50);"
   ]
  },
  {
   "cell_type": "markdown",
   "id": "8da9e6ae-24f5-4fc1-b6d6-2ad382a32fcd",
   "metadata": {},
   "source": [
    "Much clearer picture, also I put the plots on a log scale so we can actually see the distribution, otherwise it'd just be a massive bar at 0 and it would push everything else so far down that you can't see anything. I could probably go further but I don't want to misrepresent the data"
   ]
  },
  {
   "cell_type": "markdown",
   "id": "ebe836cb-249b-4b4c-bde6-a6637a847063",
   "metadata": {},
   "source": [
    "## Comparing Features\n",
    "There are a few features that jumped out at me as interesting:"
   ]
  },
  {
   "cell_type": "code",
   "execution_count": 6,
   "id": "d93d2f88-6cf0-43b9-b347-f392c98c350e",
   "metadata": {
    "execution": {
     "iopub.execute_input": "2022-06-07T15:25:41.913362Z",
     "iopub.status.busy": "2022-06-07T15:25:41.913187Z",
     "iopub.status.idle": "2022-06-07T15:25:41.921295Z",
     "shell.execute_reply": "2022-06-07T15:25:41.920552Z",
     "shell.execute_reply.started": "2022-06-07T15:25:41.913345Z"
    },
    "tags": []
   },
   "outputs": [
    {
     "name": "stdout",
     "output_type": "stream",
     "text": [
      "Out of 48544 total posts...\n",
      "--------------------------------\n",
      "2495 posts are self posts\n",
      "1001 posts are NSFW (18+)\n",
      "866 posts are marked as spoilers\n",
      "830 posts are of original content\n",
      "212 posts are locked\n",
      "145 posts are stickied\n",
      "\n"
     ]
    }
   ],
   "source": [
    "print(f'\\\n",
    "Out of {len(db)} total posts...\\n\\\n",
    "--------------------------------\\n\\\n",
    "{db.is_self.value_counts()[True]} posts are self posts\\n\\\n",
    "{db.over_18.value_counts()[True]} posts are NSFW (18+)\\n\\\n",
    "{db.spoiler.value_counts()[True]} posts are marked as spoilers\\n\\\n",
    "{db.is_original_content.value_counts()[True]} posts are of original content\\n\\\n",
    "{db.locked.value_counts()[True]} posts are locked\\n\\\n",
    "{db.stickied.value_counts()[True]} posts are stickied\\n\\\n",
    "')"
   ]
  },
  {
   "cell_type": "markdown",
   "id": "05ce41b2-5669-4d0b-a4d5-ff8d8d7171cb",
   "metadata": {},
   "source": [
    "While the number of these posts compared to the total posts isn't significant I feel that they can only add (not much) to the accuracy of the model. They only add one column each so it's cheap as well. If I had more time I would probably create a column for has_flair as well."
   ]
  },
  {
   "cell_type": "markdown",
   "id": "d79c7d53-1ee3-4180-b40f-1069a7f85ae1",
   "metadata": {},
   "source": [
    "## Numerics vs Target\n",
    "Some numeric columns I would like to include are score, post age, upvote ratio, and number of comments (which will become the target). Let's get an idea for what's going on."
   ]
  },
  {
   "cell_type": "code",
   "execution_count": 7,
   "id": "252bb5a6-d24a-4ef2-b093-3a9c780c3812",
   "metadata": {
    "execution": {
     "iopub.execute_input": "2022-06-07T15:25:41.922293Z",
     "iopub.status.busy": "2022-06-07T15:25:41.922118Z",
     "iopub.status.idle": "2022-06-07T15:25:50.783370Z",
     "shell.execute_reply": "2022-06-07T15:25:50.782637Z",
     "shell.execute_reply.started": "2022-06-07T15:25:41.922275Z"
    },
    "tags": []
   },
   "outputs": [
    {
     "name": "stdout",
     "output_type": "stream",
     "text": [
      "count     48544.000000\n",
      "mean       2130.988176\n",
      "std        6702.179836\n",
      "min          45.000000\n",
      "25%         263.000000\n",
      "50%         568.000000\n",
      "75%        1465.000000\n",
      "max      193501.000000\n",
      "Name: score, dtype: float64\n"
     ]
    },
    {
     "data": {
      "image/png": "[encoded data removed]",
      "text/plain": [
       "<Figure size 432x432 with 3 Axes>"
      ]
     },
     "metadata": {
      "needs_background": "light"
     },
     "output_type": "display_data"
    }
   ],
   "source": [
    "print(db.score.describe())\n",
    "sns.jointplot(x=db.score/100,y=db.num_comments/100,kind='reg');"
   ]
  },
  {
   "cell_type": "markdown",
   "id": "a366340c-d4b8-4a42-a067-23c1cbdd74ba",
   "metadata": {},
   "source": [
    "Both axes divided by 100 to make it easier to read\n",
    "\n",
    "Score is a strong predictor of number of comments, the highest scoring posts are almost guaranteed to have an above-median number of comments."
   ]
  },
  {
   "cell_type": "code",
   "execution_count": 8,
   "id": "3179bf66-9c82-4e7a-82c0-c534c5fc6159",
   "metadata": {
    "execution": {
     "iopub.execute_input": "2022-06-07T15:25:50.784680Z",
     "iopub.status.busy": "2022-06-07T15:25:50.784339Z",
     "iopub.status.idle": "2022-06-07T15:25:55.975570Z",
     "shell.execute_reply": "2022-06-07T15:25:55.975060Z",
     "shell.execute_reply.started": "2022-06-07T15:25:50.784655Z"
    },
    "tags": []
   },
   "outputs": [
    {
     "name": "stdout",
     "output_type": "stream",
     "text": [
      "count     48544.000000\n",
      "mean      59368.201209\n",
      "std       23001.003540\n",
      "min       14846.543459\n",
      "25%       41004.177545\n",
      "50%       57975.297003\n",
      "75%       76686.219161\n",
      "max      101274.168406\n",
      "Name: post_age, dtype: float64\n"
     ]
    },
    {
     "data": {
      "image/png": "[encoded data removed]",
      "text/plain": [
       "<Figure size 432x432 with 3 Axes>"
      ]
     },
     "metadata": {
      "needs_background": "light"
     },
     "output_type": "display_data"
    }
   ],
   "source": [
    "print(db.post_age.describe())\n",
    "sns.jointplot(x=db.post_age,y=db.num_comments, kind='reg');"
   ]
  },
  {
   "cell_type": "markdown",
   "id": "0d9922a6-e7cf-4513-8dca-0bfd1aa33447",
   "metadata": {},
   "source": [
    "It could be clearer, but there is some correlation with age and post count. You can also see how sparse super hot posts actually are."
   ]
  },
  {
   "cell_type": "code",
   "execution_count": 9,
   "id": "b0c00c9b-0e22-411f-8fdf-13c06d2ae877",
   "metadata": {
    "execution": {
     "iopub.execute_input": "2022-06-07T15:25:55.976540Z",
     "iopub.status.busy": "2022-06-07T15:25:55.976347Z",
     "iopub.status.idle": "2022-06-07T15:25:55.986845Z",
     "shell.execute_reply": "2022-06-07T15:25:55.986201Z",
     "shell.execute_reply.started": "2022-06-07T15:25:55.976523Z"
    },
    "tags": []
   },
   "outputs": [
    {
     "data": {
      "text/html": [
       "<div>\n",
       "<style scoped>\n",
       "    .dataframe tbody tr th:only-of-type {\n",
       "        vertical-align: middle;\n",
       "    }\n",
       "\n",
       "    .dataframe tbody tr th {\n",
       "        vertical-align: top;\n",
       "    }\n",
       "\n",
       "    .dataframe thead th {\n",
       "        text-align: right;\n",
       "    }\n",
       "</style>\n",
       "<table border=\"1\" class=\"dataframe\">\n",
       "  <thead>\n",
       "    <tr style=\"text-align: right;\">\n",
       "      <th></th>\n",
       "      <th>title</th>\n",
       "      <th>subreddit</th>\n",
       "      <th>num_comments</th>\n",
       "      <th>score</th>\n",
       "    </tr>\n",
       "  </thead>\n",
       "  <tbody>\n",
       "    <tr>\n",
       "      <th>38037</th>\n",
       "      <td>to push past armed courtroom guards</td>\n",
       "      <td>therewasanattempt</td>\n",
       "      <td>5876</td>\n",
       "      <td>72261</td>\n",
       "    </tr>\n",
       "    <tr>\n",
       "      <th>36183</th>\n",
       "      <td>Avs VS Oilers Western Conference Finals Game 4...</td>\n",
       "      <td>ColoradoAvalanche</td>\n",
       "      <td>5851</td>\n",
       "      <td>300</td>\n",
       "    </tr>\n",
       "    <tr>\n",
       "      <th>33841</th>\n",
       "      <td>Live WWE RAW Discussion Thread! - June 6th, 2022!</td>\n",
       "      <td>SquaredCircle</td>\n",
       "      <td>5682</td>\n",
       "      <td>128</td>\n",
       "    </tr>\n",
       "    <tr>\n",
       "      <th>36694</th>\n",
       "      <td>What would you never tell your current partner?</td>\n",
       "      <td>AskMen</td>\n",
       "      <td>5679</td>\n",
       "      <td>10159</td>\n",
       "    </tr>\n",
       "    <tr>\n",
       "      <th>1181</th>\n",
       "      <td>Nearly half of families with kids can no longe...</td>\n",
       "      <td>news</td>\n",
       "      <td>5464</td>\n",
       "      <td>60516</td>\n",
       "    </tr>\n",
       "    <tr>\n",
       "      <th>28900</th>\n",
       "      <td>Ohio House Republicans vote to put Canada on a...</td>\n",
       "      <td>nottheonion</td>\n",
       "      <td>5389</td>\n",
       "      <td>53999</td>\n",
       "    </tr>\n",
       "    <tr>\n",
       "      <th>39946</th>\n",
       "      <td>Elon Musk asserts his \"right to terminate\" Twi...</td>\n",
       "      <td>technology</td>\n",
       "      <td>5369</td>\n",
       "      <td>28363</td>\n",
       "    </tr>\n",
       "    <tr>\n",
       "      <th>28235</th>\n",
       "      <td>Prince Louis of Cambridge</td>\n",
       "      <td>funny</td>\n",
       "      <td>5334</td>\n",
       "      <td>104033</td>\n",
       "    </tr>\n",
       "    <tr>\n",
       "      <th>32875</th>\n",
       "      <td>\"Everybody is trying to blame us\"</td>\n",
       "      <td>PublicFreakout</td>\n",
       "      <td>5230</td>\n",
       "      <td>89886</td>\n",
       "    </tr>\n",
       "    <tr>\n",
       "      <th>7931</th>\n",
       "      <td>My GF’s friend stayed with us last weekend (fo...</td>\n",
       "      <td>iamverybadass</td>\n",
       "      <td>5173</td>\n",
       "      <td>24474</td>\n",
       "    </tr>\n",
       "  </tbody>\n",
       "</table>\n",
       "</div>"
      ],
      "text/plain": [
       "                                                   title          subreddit  \\\n",
       "38037                to push past armed courtroom guards  therewasanattempt   \n",
       "36183  Avs VS Oilers Western Conference Finals Game 4...  ColoradoAvalanche   \n",
       "33841  Live WWE RAW Discussion Thread! - June 6th, 2022!      SquaredCircle   \n",
       "36694    What would you never tell your current partner?             AskMen   \n",
       "1181   Nearly half of families with kids can no longe...               news   \n",
       "28900  Ohio House Republicans vote to put Canada on a...        nottheonion   \n",
       "39946  Elon Musk asserts his \"right to terminate\" Twi...         technology   \n",
       "28235                          Prince Louis of Cambridge              funny   \n",
       "32875                  \"Everybody is trying to blame us\"     PublicFreakout   \n",
       "7931   My GF’s friend stayed with us last weekend (fo...      iamverybadass   \n",
       "\n",
       "       num_comments   score  \n",
       "38037          5876   72261  \n",
       "36183          5851     300  \n",
       "33841          5682     128  \n",
       "36694          5679   10159  \n",
       "1181           5464   60516  \n",
       "28900          5389   53999  \n",
       "39946          5369   28363  \n",
       "28235          5334  104033  \n",
       "32875          5230   89886  \n",
       "7931           5173   24474  "
      ]
     },
     "execution_count": 9,
     "metadata": {},
     "output_type": "execute_result"
    }
   ],
   "source": [
    "db[db.num_comments>4000].sort_values('num_comments',ascending=False)[['title','subreddit','num_comments','score']].head(10)"
   ]
  },
  {
   "cell_type": "markdown",
   "id": "f8f94abd-f480-4ddc-9ec3-74e0f5e80b53",
   "metadata": {},
   "source": [
    "I expected to see mostly news here, and while news and current events is here (30% in my case at time of writing) the rest of it is drastically different. Anything can go viral it seems"
   ]
  },
  {
   "cell_type": "code",
   "execution_count": 10,
   "id": "fde30375-0763-4d2c-88e3-5a5c516cb145",
   "metadata": {
    "execution": {
     "iopub.execute_input": "2022-06-07T15:25:55.988879Z",
     "iopub.status.busy": "2022-06-07T15:25:55.988164Z",
     "iopub.status.idle": "2022-06-07T15:25:56.001194Z",
     "shell.execute_reply": "2022-06-07T15:25:56.000621Z",
     "shell.execute_reply.started": "2022-06-07T15:25:55.988838Z"
    },
    "tags": []
   },
   "outputs": [
    {
     "data": {
      "text/html": [
       "<div>\n",
       "<style scoped>\n",
       "    .dataframe tbody tr th:only-of-type {\n",
       "        vertical-align: middle;\n",
       "    }\n",
       "\n",
       "    .dataframe tbody tr th {\n",
       "        vertical-align: top;\n",
       "    }\n",
       "\n",
       "    .dataframe thead th {\n",
       "        text-align: right;\n",
       "    }\n",
       "</style>\n",
       "<table border=\"1\" class=\"dataframe\">\n",
       "  <thead>\n",
       "    <tr style=\"text-align: right;\">\n",
       "      <th></th>\n",
       "      <th>title</th>\n",
       "      <th>subreddit</th>\n",
       "      <th>num_comments</th>\n",
       "      <th>score</th>\n",
       "    </tr>\n",
       "  </thead>\n",
       "  <tbody>\n",
       "    <tr>\n",
       "      <th>46529</th>\n",
       "      <td>More of this please.</td>\n",
       "      <td>MadeMeSmile</td>\n",
       "      <td>5146</td>\n",
       "      <td>157009</td>\n",
       "    </tr>\n",
       "    <tr>\n",
       "      <th>47421</th>\n",
       "      <td>Helicopter footage of a loose cow being wrangl...</td>\n",
       "      <td>interestingasfuck</td>\n",
       "      <td>4347</td>\n",
       "      <td>126608</td>\n",
       "    </tr>\n",
       "    <tr>\n",
       "      <th>28235</th>\n",
       "      <td>Prince Louis of Cambridge</td>\n",
       "      <td>funny</td>\n",
       "      <td>5334</td>\n",
       "      <td>104033</td>\n",
       "    </tr>\n",
       "    <tr>\n",
       "      <th>16638</th>\n",
       "      <td>This $10 salad I paid for at a restaurant</td>\n",
       "      <td>mildlyinfuriating</td>\n",
       "      <td>4336</td>\n",
       "      <td>103858</td>\n",
       "    </tr>\n",
       "    <tr>\n",
       "      <th>32875</th>\n",
       "      <td>\"Everybody is trying to blame us\"</td>\n",
       "      <td>PublicFreakout</td>\n",
       "      <td>5230</td>\n",
       "      <td>89886</td>\n",
       "    </tr>\n",
       "    <tr>\n",
       "      <th>22957</th>\n",
       "      <td>Even the military knows assault rifles belong ...</td>\n",
       "      <td>WhitePeopleTwitter</td>\n",
       "      <td>4047</td>\n",
       "      <td>80801</td>\n",
       "    </tr>\n",
       "    <tr>\n",
       "      <th>38037</th>\n",
       "      <td>to push past armed courtroom guards</td>\n",
       "      <td>therewasanattempt</td>\n",
       "      <td>5876</td>\n",
       "      <td>72261</td>\n",
       "    </tr>\n",
       "    <tr>\n",
       "      <th>1181</th>\n",
       "      <td>Nearly half of families with kids can no longe...</td>\n",
       "      <td>news</td>\n",
       "      <td>5464</td>\n",
       "      <td>60516</td>\n",
       "    </tr>\n",
       "    <tr>\n",
       "      <th>19201</th>\n",
       "      <td>It Costs $110,000 to Fully Gear-Up in Diablo I...</td>\n",
       "      <td>technology</td>\n",
       "      <td>5150</td>\n",
       "      <td>58244</td>\n",
       "    </tr>\n",
       "    <tr>\n",
       "      <th>11976</th>\n",
       "      <td>Electric Vehicles are measurably reducing glob...</td>\n",
       "      <td>technology</td>\n",
       "      <td>4120</td>\n",
       "      <td>55080</td>\n",
       "    </tr>\n",
       "  </tbody>\n",
       "</table>\n",
       "</div>"
      ],
      "text/plain": [
       "                                                   title           subreddit  \\\n",
       "46529                               More of this please.         MadeMeSmile   \n",
       "47421  Helicopter footage of a loose cow being wrangl...   interestingasfuck   \n",
       "28235                          Prince Louis of Cambridge               funny   \n",
       "16638          This $10 salad I paid for at a restaurant   mildlyinfuriating   \n",
       "32875                  \"Everybody is trying to blame us\"      PublicFreakout   \n",
       "22957  Even the military knows assault rifles belong ...  WhitePeopleTwitter   \n",
       "38037                to push past armed courtroom guards   therewasanattempt   \n",
       "1181   Nearly half of families with kids can no longe...                news   \n",
       "19201  It Costs $110,000 to Fully Gear-Up in Diablo I...          technology   \n",
       "11976  Electric Vehicles are measurably reducing glob...          technology   \n",
       "\n",
       "       num_comments   score  \n",
       "46529          5146  157009  \n",
       "47421          4347  126608  \n",
       "28235          5334  104033  \n",
       "16638          4336  103858  \n",
       "32875          5230   89886  \n",
       "22957          4047   80801  \n",
       "38037          5876   72261  \n",
       "1181           5464   60516  \n",
       "19201          5150   58244  \n",
       "11976          4120   55080  "
      ]
     },
     "execution_count": 10,
     "metadata": {},
     "output_type": "execute_result"
    }
   ],
   "source": [
    "db[db.num_comments>4000].sort_values('score',ascending=False)[['title','subreddit','num_comments','score']].head(10)"
   ]
  },
  {
   "cell_type": "markdown",
   "id": "523f31c6-7fdf-4079-8621-32574d400879",
   "metadata": {},
   "source": [
    "Sorting by score is a similar story. This is where machine learning really blows my mind, there's no apparent correlation here but somehow it manages to find it"
   ]
  },
  {
   "cell_type": "code",
   "execution_count": 11,
   "id": "75749905-250d-41aa-90fc-16cd06be8e73",
   "metadata": {
    "execution": {
     "iopub.execute_input": "2022-06-07T15:25:56.002307Z",
     "iopub.status.busy": "2022-06-07T15:25:56.001959Z",
     "iopub.status.idle": "2022-06-07T15:26:01.321549Z",
     "shell.execute_reply": "2022-06-07T15:26:01.321049Z",
     "shell.execute_reply.started": "2022-06-07T15:25:56.002277Z"
    }
   },
   "outputs": [
    {
     "name": "stdout",
     "output_type": "stream",
     "text": [
      "count    48544.000000\n",
      "mean         0.963388\n",
      "std          0.041302\n",
      "min          0.510000\n",
      "25%          0.950000\n",
      "50%          0.980000\n",
      "75%          0.990000\n",
      "max          1.000000\n",
      "Name: upvote_ratio, dtype: float64\n"
     ]
    },
    {
     "data": {
      "image/png": "[encoded data removed]",
      "text/plain": [
       "<Figure size 432x432 with 3 Axes>"
      ]
     },
     "metadata": {
      "needs_background": "light"
     },
     "output_type": "display_data"
    }
   ],
   "source": [
    "print(db.upvote_ratio.describe())\n",
    "sns.jointplot(x=db.upvote_ratio,y=db.num_comments, kind='reg');"
   ]
  },
  {
   "cell_type": "markdown",
   "id": "9fcffe77-4aa6-4df3-a4bd-bc020a112c12",
   "metadata": {},
   "source": [
    "Upvote ratio goes down as the number of comments increases, at first I thought this seemed backwards but I guess the majority of reddit comments are of such low quality that it drives the metric down into the dirt"
   ]
  },
  {
   "cell_type": "markdown",
   "id": "af0cc9fa-7ba4-4579-b972-91102ea8ba0e",
   "metadata": {},
   "source": [
    "## Create Working Dataframes"
   ]
  },
  {
   "cell_type": "markdown",
   "id": "92c7db6d-1915-4161-9ffc-7bb6763cf064",
   "metadata": {},
   "source": [
    "Let's put it in a dataframe so we can work with it. And also drop any NAs that appear (I don't see any, but I don't want any if they appear in the future)"
   ]
  },
  {
   "cell_type": "code",
   "execution_count": 12,
   "id": "20e22840-02f1-4d8e-8ee3-73835863f4a6",
   "metadata": {
    "execution": {
     "iopub.execute_input": "2022-06-07T15:26:01.323685Z",
     "iopub.status.busy": "2022-06-07T15:26:01.323365Z",
     "iopub.status.idle": "2022-06-07T15:26:01.619933Z",
     "shell.execute_reply": "2022-06-07T15:26:01.619372Z",
     "shell.execute_reply.started": "2022-06-07T15:26:01.323665Z"
    },
    "tags": []
   },
   "outputs": [],
   "source": [
    "db[['title','subreddit','over_18','is_original_content','is_self','spoiler',\\\n",
    "         'locked','stickied','num_comments']].dropna().to_csv('data/workingdf.csv',index=False)\n",
    "\n",
    "db[['score','post_age','upvote_ratio']].to_csv('data/numerics.csv',index=False)"
   ]
  },
  {
   "cell_type": "markdown",
   "id": "154b0f51-a46a-47a1-b73b-0d7f1f1f8f57",
   "metadata": {},
   "source": [
    "Next, we [clean](clean.ipynb)"
   ]
  }
 ],
 "metadata": {
  "kernelspec": {
   "display_name": "Python 3 (ipykernel)",
   "language": "python",
   "name": "python3"
  },
  "language_info": {
   "codemirror_mode": {
    "name": "ipython",
    "version": 3
   },
   "file_extension": ".py",
   "mimetype": "text/x-python",
   "name": "python",
   "nbconvert_exporter": "python",
   "pygments_lexer": "ipython3",
   "version": "3.10.5"
  }
 },
 "nbformat": 4,
 "nbformat_minor": 5
}
